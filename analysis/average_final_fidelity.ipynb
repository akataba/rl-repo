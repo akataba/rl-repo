{
 "cells": [
  {
   "cell_type": "code",
   "execution_count": 1,
   "metadata": {},
   "outputs": [
    {
     "name": "stderr",
     "output_type": "stream",
     "text": [
      "2025-02-11 10:54:46,543\tWARNING __init__.py:10 -- DDPG has/have been moved to `rllib_contrib` and will no longer be maintained by the RLlib team. You can still use it/them normally inside RLlib util Ray 2.8, but from Ray 2.9 on, all `rllib_contrib` algorithms will no longer be part of the core repo, and will therefore have to be installed separately with pinned dependencies for e.g. ray[rllib] and other packages! See https://github.com/ray-project/ray/tree/master/rllib_contrib#rllib-contrib for more information on the RLlib contrib effort.\n"
     ]
    }
   ],
   "source": [
    "from relaqs import RESULTS_DIR\n",
    "from relaqs.api import load_pickled_env_data"
   ]
  },
  {
   "cell_type": "code",
   "execution_count": null,
   "metadata": {},
   "outputs": [
    {
     "name": "stdout",
     "output_type": "stream",
     "text": [
      "Max fidelity: 0.999999318717811\n"
     ]
    }
   ],
   "source": [
    "data_path = RESULTS_DIR + 'cover_bloch_sphere/2025-02-07_13-06-05_X/env_data.pkl'\n",
    "df = load_pickled_env_data(data_path)"
   ]
  },
  {
   "cell_type": "code",
   "execution_count": null,
   "metadata": {},
   "outputs": [],
   "source": [
    "last_n_episodes = 1000\n",
    "n_steps_per_episode = 2\n",
    "\n",
    "last_step_of_episode_indices = []\n",
    "current_episode_id = df[\"Episode Id\"].iloc[-1]\n",
    "\n",
    "for i in df.index[::-1]:\n",
    "    episode_id = df[\"Episode Id\"][i] \n",
    "    end_of_episode = True if episode_id != current_episode_id else False\n",
    "    if end_of_episode:\n",
    "        last_step_of_episode_indices.append(i)\n",
    "        current_episode_id = episode_id\n",
    "    if len(last_step_of_episode_indices) == last_n_episodes:\n",
    "        break"
   ]
  },
  {
   "cell_type": "code",
   "execution_count": 22,
   "metadata": {},
   "outputs": [
    {
     "data": {
      "text/plain": [
       "0.9985582182060605"
      ]
     },
     "execution_count": 22,
     "metadata": {},
     "output_type": "execute_result"
    }
   ],
   "source": [
    "end_of_episode_fidelities = df[\"Fidelity\"][last_step_of_episode_indices]\n",
    "average_end_of_episode_fidelities = end_of_episode_fidelities.mean()\n",
    "average_end_of_episode_fidelities\n"
   ]
  },
  {
   "cell_type": "code",
   "execution_count": 23,
   "metadata": {},
   "outputs": [
    {
     "name": "stdout",
     "output_type": "stream",
     "text": [
      "Max fidelity: 0.999999318717811\n"
     ]
    }
   ],
   "source": [
    "print(\"Max fidelity:\", max_fidelity)"
   ]
  },
  {
   "cell_type": "code",
   "execution_count": null,
   "metadata": {},
   "outputs": [],
   "source": []
  }
 ],
 "metadata": {
  "kernelspec": {
   "display_name": "relaqs-3.9",
   "language": "python",
   "name": "python3"
  },
  "language_info": {
   "codemirror_mode": {
    "name": "ipython",
    "version": 3
   },
   "file_extension": ".py",
   "mimetype": "text/x-python",
   "name": "python",
   "nbconvert_exporter": "python",
   "pygments_lexer": "ipython3",
   "version": "3.9.21"
  }
 },
 "nbformat": 4,
 "nbformat_minor": 2
}
