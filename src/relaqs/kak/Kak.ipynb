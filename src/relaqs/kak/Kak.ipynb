{
 "cells": [
  {
   "cell_type": "code",
   "execution_count": 539,
   "metadata": {},
   "outputs": [],
   "source": [
    "# Import\n",
    "import numpy as np\n",
    "from scipy.stats import unitary_group\n",
    "from sympy import Matrix\n",
    "from scipy.linalg import expm\n",
    "from typing import Tuple"
   ]
  },
  {
   "cell_type": "code",
   "execution_count": 540,
   "metadata": {},
   "outputs": [],
   "source": [
    "I = np.identity(2)\n",
    "X = np.array([[0, 1.], [1., 0]])\n",
    "Y = np.array([[0, -1.j], [1.j, 0]])\n",
    "Z = np.array([[1., 0], [0, -1.]])\n",
    "H = np.array([[1/np.sqrt(2),1/np.sqrt(2)],[1/np.sqrt(2),-1/np.sqrt(2)]])\n",
    "\n",
    "H1 = np.kron(H,I)\n",
    "H2 = np.kron(I,H)\n",
    "X1 = np.kron(X,I)\n",
    "X2 = np.kron(I,X)"
   ]
  },
  {
   "cell_type": "code",
   "execution_count": 541,
   "metadata": {},
   "outputs": [],
   "source": [
    "def decompose_one_qubit_product(\n",
    "    U: np.ndarray, validate_input: bool = True, atol: float = 1e-8, rtol: float = 1e-5\n",
    "):\n",
    "    \"\"\"\n",
    "    Decompose a 4x4 unitary matrix to two 2x2 unitary matrices.\n",
    "    Args:\n",
    "        U (np.ndarray): input 4x4 unitary matrix to decompose.\n",
    "        validate_input (bool): if check input.\n",
    "    Returns:\n",
    "        phase (float): global phase.\n",
    "        U1 (np.ndarray): decomposed unitary matrix U1.\n",
    "        U2 (np.ndarray): decomposed unitary matrix U2.\n",
    "        atol (float): absolute tolerance of loss.\n",
    "        rtol (float): relative tolerance of loss.\n",
    "    Raises:\n",
    "        AssertionError: if the input is not a 4x4 unitary or\n",
    "        cannot be decomposed.\n",
    "    \"\"\"\n",
    "\n",
    "    \"\"\"if validate_input:\n",
    "        assert np.allclose(\n",
    "            makhlin_invariants(U, atol=atol, rtol=rtol), (1, 0, 3), atol=atol, rtol=rtol\n",
    "        )\"\"\"\n",
    "\n",
    "    i, j = np.unravel_index(np.argmax(U, axis=None), U.shape)\n",
    "\n",
    "    def u1_set(i):\n",
    "        return (1, 3) if i % 2 else (0, 2)\n",
    "\n",
    "    def u2_set(i):\n",
    "        return (0, 1) if i < 2 else (2, 3)\n",
    "\n",
    "    u1 = U[np.ix_(u1_set(i), u1_set(j))]\n",
    "    u2 = U[np.ix_(u2_set(i), u2_set(j))]\n",
    "    \n",
    "    u1 = to_su(u1)\n",
    "    u2 = to_su(u2)\n",
    "\n",
    "    phase = U[i, j] / (u1[i // 2, j // 2] * u2[i % 2, j % 2])\n",
    "\n",
    "    return phase, u1, u2"
   ]
  },
  {
   "cell_type": "code",
   "execution_count": 542,
   "metadata": {},
   "outputs": [],
   "source": [
    "def to_su(u: np.ndarray) -> np.ndarray:\n",
    "    \"\"\"\n",
    "    Given a unitary in U(N), return the\n",
    "    unitary in SU(N).\n",
    "    Args:\n",
    "        u (np.ndarray): The unitary in U(N).\n",
    "    Returns:\n",
    "        np.ndarray: The unitary in SU(N)\n",
    "    \"\"\"\n",
    "\n",
    "    return u * complex(np.linalg.det(u)) ** (-1 / np.shape(u)[0])"
   ]
  },
  {
   "cell_type": "code",
   "execution_count": 543,
   "metadata": {},
   "outputs": [],
   "source": [
    "def KAK_2q(\n",
    "    U: np.ndarray,\n",
    "    rounding: int = 19\n",
    ") -> Tuple[float, np.ndarray, np.ndarray, float, np.ndarray, np.ndarray, float,\n",
    "           float, float]:\n",
    "    \"\"\"\n",
    "    Decomposes a 2-qubit unitary matrix into the product of three matrices:\n",
    "    KAK = L @ CAN(theta_vec) @ R where L and R are two-qubit local unitaries, \n",
    "    CAN is a 3-parameter canonical matrix, and theta_vec is a vector of 3 angles.\n",
    "\n",
    "    Args:\n",
    "        U (np.ndarray): 2-qubit unitary matrix\n",
    "        rounding (int): Number of decimal places to round intermediate \n",
    "        matrices to (default 14)\n",
    "\n",
    "    Returns:\n",
    "        Tuple of 9 values:\n",
    "            - phase1 (float): Global phase factor for left local unitary L\n",
    "            - L1 (np.ndarray): Top 2x2 matrix of left local unitary L\n",
    "            - L2 (np.ndarray): Bottom 2x2 matrix of left local unitary L\n",
    "            - phase2 (float): Global phase factor for right local unitary R\n",
    "            - R1 (np.ndarray): Top 2x2 matrix of right local unitary R\n",
    "            - R2 (np.ndarray): Bottom 2x2 matrix of right local unitary R\n",
    "            - c0 (float): XX canonical parameter in the Weyl chamber\n",
    "            - c1 (float): YY canonical parameter in the Weyl chamber\n",
    "            - c2 (float): ZZ canonical parameter in the Weyl chamber\n",
    "    \"\"\"\n",
    "\n",
    "    # 0. Map U(4) to SU(4) (and phase)\n",
    "    U = U / np.linalg.det(U)**0.25 \n",
    "\n",
    "    assert np.isclose(np.linalg.det(U), 1), \"Determinant of U is not 1\"\n",
    "\n",
    "    # 1. Unconjugate U into the magic basis\n",
    "    B = 1 / np.sqrt(2) * np.array([[1., 0, 0, 1.j], [0, 1.j, 1., 0],\n",
    "                                   [0, 1.j, -1., 0], [1., 0, 0, -1.j]]) # Magic Basis\n",
    "    \n",
    "    U_prime = np.conj(B).T @ U @ B\n",
    "\n",
    "    # Isolating the maximal torus\n",
    "    Theta = lambda U: np.conj(U)\n",
    "    M_squared = Theta(np.conj(U_prime).T) @ U_prime\n",
    "    \n",
    "    if rounding is not None:\n",
    "        M_squared = np.round(M_squared, rounding)  # For numerical stability\n",
    "\n",
    "    ## 2. Diagonalizing M^2\n",
    "    D, P = np.linalg.eig(M_squared)\n",
    "    \n",
    "    ## Check and correct for det(P) = -1\n",
    "    if np.isclose(np.linalg.det(P), -1):\n",
    "        P[:, 0] *= -1  # Multiply the first eigenvector by -1\n",
    "\n",
    "    # 3. Extracting K2\n",
    "    K2 = np.conj(P).T\n",
    "\n",
    "    assert np.allclose(K2 @ K2.T, np.identity(4)), \"K2 is not orthogonal\"\n",
    "    assert np.isclose(np.linalg.det(K2), 1), \"Determinant of K2 is not 1\"\n",
    "\n",
    "    # 4. Extracting A\n",
    "    A = np.sqrt(D)\n",
    "    \n",
    "    ## Check and correct for det(A) = -1\n",
    "    if np.isclose(np.prod(A), -1):\n",
    "        A[0] *= -1  # Multiply the first eigenvalue by -1\n",
    "\n",
    "    A = np.diag(A)  # Turn the list of eigenvalues into a diagonal matrix\n",
    "    \n",
    "    assert np.isclose(np.linalg.det(A), 1), \"Determinant of A is not 1\"\n",
    "    \n",
    "    # 5. Extracting K1\n",
    "    K1 = U_prime @ np.conj(K2).T @ np.conj(A).T\n",
    "    \n",
    "    assert np.allclose(K1 @ K1.T, np.identity(4)), \"K1 is not orthogonal\"\n",
    "    assert np.isclose(np.linalg.det(K1), 1), \"Determinant of K1 is not 1\"\n",
    "\n",
    "    # 6. Extracting Local Gates\n",
    "    L = B @ K1 @ np.conj(B).T  # Left Local Product\n",
    "    R = B @ K2 @ np.conj(B).T  # Right Local Product\n",
    "    \n",
    "    phase1, L1, L2 = decompose_one_qubit_product(L)  # L1 (top), L2(bottom)\n",
    "    phase2, R1, R2 = decompose_one_qubit_product(R)  # R1 (top), R2(bottom)\n",
    "\n",
    "    # 7. Extracting the Canonical Parameters\n",
    "    C = np.array([[1, 1, 1], [-1, 1, -1], [1, -1, -1]])  # Coefficient Matrix\n",
    "\n",
    "    theta_vec = np.angle(np.diag(A))[:3]  # theta vector\n",
    "    a0, a1, a2 = np.linalg.inv(C) @ theta_vec  # Computing the \"a\"-vector\n",
    "\n",
    "    # 8. Unpack Parameters and Put into Weyl chamber\n",
    "    c0, c1, c2 = 2*a1, -2*a0, 2*a2 # Unpack parameters\n",
    "    \n",
    "    assert np.allclose(U, (phase1 * np.kron(L1, L2)) @ CAN(c0, c1, c2)\n",
    "                       @ (phase2 * np.kron(R1, R2)), atol=1e-03), \"U does not equal KAK\"\n",
    "\n",
    "    # np.set_printoptions(suppress=True)\n",
    "    # print(U)\n",
    "    # print((phase1 * np.kron(L1, L2)) @ CAN(c0, c1, c2) @ (phase2 * np.kron(R1, R2)))\n",
    "    \n",
    "    return phase1, L1, L2, phase2, R1, R2, c0, c1, c2"
   ]
  },
  {
   "cell_type": "code",
   "execution_count": 544,
   "metadata": {},
   "outputs": [
    {
     "name": "stdout",
     "output_type": "stream",
     "text": [
      "[[ 0.70710678+0.j  0.70710678+0.j]\n",
      " [ 0.70710678+0.j -0.70710678-0.j]] [[ 0.70710678+0.j  0.70710678+0.j]\n",
      " [ 0.70710678+0.j -0.70710678-0.j]]\n"
     ]
    }
   ],
   "source": [
    "# U = unitary_group.rvs(4, random_state = 18)\n",
    "U = expm(-1j/2*(-0.7)*np.pi*(np.kron(X,X)+np.kron(Y,Y)))\n",
    "CAN = lambda c0, c1, c2: expm(1j/2*(c0*np.kron(X, X) + c1*np.kron(Y, Y) + c2*np.kron(Z, Z)))\n",
    "\n",
    "xxx = KAK_2q(U)\n",
    "# print(np.kron(xxx[4],xxx[5]))\n",
    "print(Y@xxx[1],1j*xxx[2])"
   ]
  },
  {
   "cell_type": "code",
   "execution_count": 545,
   "metadata": {},
   "outputs": [
    {
     "name": "stdout",
     "output_type": "stream",
     "text": [
      "[[1.        +0.j         0.        +0.j         0.        +0.j\n",
      "  0.        +0.j        ]\n",
      " [0.        +0.j         0.95105652+0.j         0.        +0.30901699j\n",
      "  0.        +0.j        ]\n",
      " [0.        +0.j         0.        +0.30901699j 0.95105652+0.j\n",
      "  0.        +0.j        ]\n",
      " [0.        +0.j         0.        +0.j         0.        +0.j\n",
      "  1.        +0.j        ]]\n",
      "[[ 1.        +0.j          0.        -0.j          0.        -0.j\n",
      "   0.        -0.j        ]\n",
      " [-0.        -0.j          0.95105652-0.j         -0.        -0.30901699j\n",
      "  -0.        +0.j        ]\n",
      " [-0.        +0.j         -0.        -0.30901699j  0.95105652-0.j\n",
      "  -0.        -0.j        ]\n",
      " [ 0.        -0.j          0.        -0.j          0.        -0.j\n",
      "   1.        +0.j        ]]\n"
     ]
    }
   ],
   "source": [
    "np.set_printoptions(suppress=True)\n",
    "print(expm(-1j/2*(-0.1)*np.pi*(np.kron(X,X)+np.kron(Y,Y))))\n",
    "print(X1@H1@H2@X2@expm(1j/2*(0.1)*np.pi*(-np.kron(Y,Y)+np.kron(Z,Z)))@H1@X1@X2@H2)"
   ]
  },
  {
   "cell_type": "code",
   "execution_count": 546,
   "metadata": {},
   "outputs": [
    {
     "name": "stdout",
     "output_type": "stream",
     "text": [
      "[[-0.5+0.j -0.5+0.j  0.5+0.j  0.5+0.j]\n",
      " [-0.5+0.j  0.5+0.j  0.5+0.j -0.5-0.j]\n",
      " [ 0.5+0.j  0.5+0.j  0.5+0.j  0.5+0.j]\n",
      " [ 0.5+0.j -0.5-0.j  0.5+0.j -0.5-0.j]]\n",
      "[[ 0.-0.70710678j  0.-0.70710678j]\n",
      " [ 0.-0.70710678j -0.+0.70710678j]]\n"
     ]
    }
   ],
   "source": [
    "print(-(xxx[0] * np.kron(xxx[1], xxx[2])))"
   ]
  },
  {
   "cell_type": "code",
   "execution_count": null,
   "metadata": {},
   "outputs": [],
   "source": []
  }
 ],
 "metadata": {
  "kernelspec": {
   "display_name": ".venv",
   "language": "python",
   "name": "python3"
  },
  "language_info": {
   "codemirror_mode": {
    "name": "ipython",
    "version": 3
   },
   "file_extension": ".py",
   "mimetype": "text/x-python",
   "name": "python",
   "nbconvert_exporter": "python",
   "pygments_lexer": "ipython3",
   "version": "3.11.0"
  }
 },
 "nbformat": 4,
 "nbformat_minor": 2
}
